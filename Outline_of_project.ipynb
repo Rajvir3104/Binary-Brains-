{
 "cells": [
  {
   "cell_type": "markdown",
   "metadata": {},
   "source": [
    "# Hack The Change Code!\n",
    "\n",
    "## Disign Solution\n",
    "\n",
    "Create a Software that annalyses the users habits give them a grade and sugessts alternatives to be better for the world "
   ]
  },
  {
   "cell_type": "markdown",
   "metadata": {},
   "source": [
    "## Sources of Data \n",
    "\n",
    "### Flight Data\n",
    "- https://stats.oecd.org/Index.aspx?DataSetCode=AIRTRANS_CO2\n",
    "- https://www150.statcan.gc.ca/t1/tbl1/en/tv.action?pid=2310025301&cubeTimeFrame.startYear=2015&cubeTimeFrame.endYear=2020&referencePeriods=20150101%2C20200101\n",
    "- https://ourworldindata.org/grapher/carbon-footprint-travel-mode\n"
   ]
  }
 ],
 "metadata": {
  "kernelspec": {
   "display_name": "base",
   "language": "python",
   "name": "python3"
  },
  "language_info": {
   "name": "python",
   "version": "3.11.4"
  }
 },
 "nbformat": 4,
 "nbformat_minor": 2
}
