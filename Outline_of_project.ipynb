{
 "cells": [
  {
   "cell_type": "markdown",
   "metadata": {},
   "source": [
    "# Hack The Change Code!\n",
    "\n",
    "## Disign Solution\n",
    "\n",
    "Create a Software that annalyses the users habits give them a grade and sugessts alternatives to be better for the world "
   ]
  },
  {
   "cell_type": "markdown",
   "metadata": {},
   "source": [
    "## Sources of Data \n",
    "\n",
    "### Flight Data\n",
    "- https://stats.oecd.org/Index.aspx?DataSetCode=AIRTRANS_CO2"
   ]
  }
 ],
 "metadata": {
  "language_info": {
   "name": "python"
  }
 },
 "nbformat": 4,
 "nbformat_minor": 2
}
