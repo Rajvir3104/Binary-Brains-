{
 "cells": [
  {
   "cell_type": "code",
   "execution_count": 2,
   "metadata": {},
   "outputs": [],
   "source": [
    "import pandas as pd\n",
    "import numpy as np\n",
    "import statistics\n",
    "\n",
    "def flight_emissions(number_of_flight):\n",
    "    \"\"\"\n",
    "        Calculating the CO2 emissions per # of flight\n",
    "\n",
    "        Parameters\n",
    "        ----------\n",
    "        \n",
    "        Number of flights :int\n",
    "        \n",
    "            The Number of flights a user has in a years time (Tones of CO2)\n",
    "        \n",
    "    \"\"\"\n",
    "    \n",
    "    flight = pd.read_csv(r\"C:\\Users\\ashle\\Documents\\ENGG year 2\\Binary-Brains-\\Data\\AIRTRANS_CO2_11112023191907048.csv\")\n",
    "    flight_can = flight[flight[\"LOCATION\"] == \"CAN\"]\n",
    "    flight_can = flight_can[flight_can[\"FREQUENCY\"] == \"A\"]\n",
    "    flight_can_passenger = flight_can[flight_can[\"Flight type\"] == \"Passenger flights\"]\n",
    "\n",
    "\n",
    "    flight_can_passenger = flight_can_passenger.groupby(['Time'])[\"Value\"].mean().reset_index()\n",
    "\n",
    "    passengers_by_year = [133426703,140892544,150808451,160641587,162864077,46349535]\n",
    "\n",
    "    y =0\n",
    "    emission_per_flight = []\n",
    "    while y < 6:\n",
    "        x = flight_can_passenger.iloc[y]\n",
    "        x = x[\"Value\"] / passengers_by_year[y]\n",
    "\n",
    "        emission_per_flight.append(x)\n",
    "\n",
    "        y+=1\n",
    "\n",
    "\n",
    "    emission_per_flight = statistics.mean(emission_per_flight) * number_of_flight\n",
    "\n",
    "    return(emission_per_flight)\n",
    "\n",
    "\n",
    "\n"
   ]
  },
  {
   "cell_type": "code",
   "execution_count": 3,
   "metadata": {},
   "outputs": [
    {
     "ename": "TypeError",
     "evalue": "flight_emissions() missing 1 required positional argument: 'number_of_flight'",
     "output_type": "error",
     "traceback": [
      "\u001b[1;31m---------------------------------------------------------------------------\u001b[0m",
      "\u001b[1;31mTypeError\u001b[0m                                 Traceback (most recent call last)",
      "\u001b[1;32mc:\\Users\\codyd\\Desktop\\Binary-Brains-\\Data.ipynb Cell 2\u001b[0m line \u001b[0;36m1\n\u001b[1;32m----> <a href='vscode-notebook-cell:/c%3A/Users/codyd/Desktop/Binary-Brains-/Data.ipynb#W1sZmlsZQ%3D%3D?line=0'>1</a>\u001b[0m flight_emissions()\n",
      "\u001b[1;31mTypeError\u001b[0m: flight_emissions() missing 1 required positional argument: 'number_of_flight'"
     ]
    }
   ],
   "source": [
    "flight_emissions()"
   ]
  }
 ],
 "metadata": {
  "kernelspec": {
   "display_name": "Python 3",
   "language": "python",
   "name": "python3"
  },
  "language_info": {
   "codemirror_mode": {
    "name": "ipython",
    "version": 3
   },
   "file_extension": ".py",
   "mimetype": "text/x-python",
   "name": "python",
   "nbconvert_exporter": "python",
   "pygments_lexer": "ipython3",
   "version": "3.11.4"
  }
 },
 "nbformat": 4,
 "nbformat_minor": 2
}
