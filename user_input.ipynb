{
 "cells": [
  {
   "cell_type": "code",
   "execution_count": null,
   "metadata": {},
   "outputs": [],
   "source": [
    "#Getting user inputs \n",
    "\n",
    "age = int(input(\"Enter your age: \"))\n",
    "flights_per_year = int(input(\"Enter number of flights per year: \"))\n",
    "daily_drive_km = float(input(\"Enter average daily kilonmeters driven: \"))\n",
    "\"\"\"\n",
    "the average co2 emmission per travel kilmoeter by \n",
    "petrol car: 0.17 kg\n",
    "plug in hybrid: 0.068 kg\n",
    "electric car: 0.047 kg\n",
    "\"\"\"\n",
    "\n",
    "\n"
   ]
  }
 ],
 "metadata": {
  "kernelspec": {
   "display_name": "Python 3",
   "language": "python",
   "name": "python3"
  },
  "language_info": {
   "name": "python",
   "version": "3.11.4"
  }
 },
 "nbformat": 4,
 "nbformat_minor": 2
}
